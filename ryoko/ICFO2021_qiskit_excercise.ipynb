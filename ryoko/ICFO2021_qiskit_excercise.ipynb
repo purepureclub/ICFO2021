{
 "cells": [
  {
   "cell_type": "markdown",
   "metadata": {},
   "source": [
    "# 演習：Schrödingerの猫を実装する\n",
    "Schrödingerの猫とは、理論物理学者Erwin Schrödingerによる思考実験です。不透明な箱に、1分間に50%の確率で毒ガスを発生させる装置と猫を入れたとき、1分後の猫の生死がどうなっているかを論じるものです。\n",
    "\n",
    "ところで、量子状態$ |+\\rangle $を測定すると、50%の確率で$ |0\\rangle $を、50%の確率で$ |1\\rangle $を観測することができます。\n",
    "$$\n",
    "|+\\rangle = \\frac{1}{\\sqrt{2}} |0\\rangle + \\frac{1}{\\sqrt{2}} |1\\rangle\n",
    "$$\n",
    "\n",
    "これを利用し、量子ビットを使ってSchrödingerの猫を実装してみましょう。"
   ]
  },
  {
   "cell_type": "markdown",
   "metadata": {},
   "source": [
    "## 準備 1: 必要なライブラリをインポートします"
   ]
  },
  {
   "cell_type": "code",
   "execution_count": 1,
   "metadata": {},
   "outputs": [],
   "source": [
    "#必要なライブラリのインポート\n",
    "%matplotlib inline\n",
    "from qiskit import QuantumRegister, ClassicalRegister, QuantumCircuit, transpile, IBMQ\n",
    "from qiskit.providers.aer import QasmSimulator\n",
    "from qiskit.tools.monitor import job_monitor \n",
    "from qiskit.providers.ibmq import least_busy\n",
    "from qiskit.visualization import plot_histogram\n",
    "import numpy as np\n",
    "import matplotlib.pyplot as plt"
   ]
  },
  {
   "cell_type": "markdown",
   "metadata": {},
   "source": [
    "## 準備 2: 生きた猫と死んだ猫を表示する関数を実装します"
   ]
  },
  {
   "cell_type": "code",
   "execution_count": 2,
   "metadata": {},
   "outputs": [],
   "source": [
    "#猫画像の初期化\n",
    "live_cat = np.array(\n",
    "    [[0,0,0,0,0,0,0,0,0,0,0,0,0,0,0,0,0,0,0,0],\n",
    "    [0,1,1,1,1,1,1,1,1,1,1,1,1,1,1,1,1,1,1,0],\n",
    "    [0,1,1,1,1,1,1,1,0,1,1,1,1,0,1,1,1,1,1,0],\n",
    "    [0,1,1,1,1,1,1,0,0,1,1,1,0,0,1,1,1,1,1,0],\n",
    "    [0,1,1,1,1,1,0,0,0,1,1,0,0,0,1,1,1,1,1,0],\n",
    "    [0,1,1,1,1,1,0,0,0,0,0,0,0,0,1,1,1,1,1,0],\n",
    "    [0,1,1,1,1,0,0,1,0,0,1,0,0,0,1,1,1,1,1,0],\n",
    "    [0,1,1,1,1,0,0,1,0,0,1,0,0,0,1,1,1,1,1,0],\n",
    "    [0,1,1,1,1,0,0,0,0,0,0,0,0,0,1,1,1,1,1,0],\n",
    "    [0,1,1,1,1,1,0,0,0,0,0,0,0,1,1,1,1,1,1,0],\n",
    "    [0,1,1,1,1,1,1,0,0,0,0,0,1,1,1,0,0,1,1,0],\n",
    "    [0,1,1,1,1,1,1,1,1,0,0,1,1,1,0,1,1,0,1,0],\n",
    "    [0,1,1,1,1,1,1,1,1,0,0,0,1,1,0,1,1,1,1,0],\n",
    "    [0,1,1,1,1,1,1,1,1,0,0,0,0,1,1,0,1,1,1,0],\n",
    "    [0,1,1,1,1,1,1,1,1,0,0,0,0,0,1,1,0,1,1,0],\n",
    "    [0,1,1,1,1,1,1,1,0,0,0,0,0,0,1,1,0,1,1,0],\n",
    "    [0,1,1,1,1,1,1,1,0,0,0,0,0,0,0,1,0,1,1,0],\n",
    "    [0,1,1,1,1,1,1,1,0,0,0,0,0,0,0,0,1,1,1,0],\n",
    "    [0,1,1,1,1,1,1,1,0,0,0,0,0,0,0,1,1,1,1,0],\n",
    "    [0,0,0,0,0,0,0,0,0,0,0,0,0,0,0,0,0,0,0,0]])\n",
    "dead_cat = np.array(\n",
    "    [[0,0,0,0,0,0,0,0,0,0,0,0,0,0,0,0,0,0,0,0],\n",
    "    [0,1,1,1,1,1,1,1,1,1,1,1,1,1,1,1,1,1,1,0],\n",
    "    [0,1,1,1,1,1,1,1,1,1,1,1,1,1,1,1,1,1,1,0],\n",
    "    [0,1,1,1,1,1,1,1,1,1,1,1,1,1,1,1,1,1,1,0],\n",
    "    [0,1,1,1,1,1,1,1,1,1,1,1,1,1,1,1,1,1,1,0],\n",
    "    [0,1,1,1,1,1,1,1,1,1,1,1,1,1,1,1,1,1,1,0],\n",
    "    [0,1,1,1,1,1,1,1,1,1,1,1,1,1,1,1,1,1,1,0],\n",
    "    [0,1,1,1,1,1,1,1,1,1,1,1,1,1,1,1,1,1,1,0],\n",
    "    [0,1,1,1,1,1,1,1,1,1,1,1,1,1,1,1,1,1,1,0],\n",
    "    [0,1,1,1,1,1,1,1,1,1,1,1,1,1,1,1,1,1,1,0],\n",
    "    [0,1,1,1,1,1,1,1,1,1,1,1,1,1,1,1,1,1,1,0],\n",
    "    [0,1,1,1,1,1,1,1,1,1,1,1,1,1,1,1,1,1,1,0],\n",
    "    [0,1,1,1,1,0,1,1,1,0,1,1,1,1,1,1,1,1,1,0],     \n",
    "    [0,1,1,1,0,0,1,1,0,0,1,1,1,0,0,0,0,0,1,0],     \n",
    "    [0,1,1,0,0,0,1,0,0,0,1,1,0,0,0,0,0,0,0,0],     \n",
    "    [0,1,1,0,0,0,0,0,0,0,1,0,0,0,0,0,0,0,0,0],     \n",
    "    [0,1,0,0,0,0,0,0,0,0,0,0,0,0,0,0,0,0,0,0],     \n",
    "    [0,1,0,0,0,0,0,0,0,0,0,0,0,0,0,0,0,0,0,0],     \n",
    "    [0,1,0,0,0,0,0,0,0,0,0,0,0,0,0,0,0,0,0,0],     \n",
    "    [0,0,0,0,0,0,0,0,0,0,0,0,0,0,0,0,0,0,0,0]])\n",
    "\n",
    "#入力に0が含まれていると生きている猫、\n",
    "#含まれていない場合は死んでいる猫が表示される関数\n",
    "def show_cat(memory):\n",
    "    if memory[0] == '0':\n",
    "        image = live_cat\n",
    "    else:\n",
    "        image = dead_cat\n",
    "        \n",
    "    fig, ax = plt.subplots()\n",
    "    ax.imshow(image, cmap=plt.cm.gray)\n",
    "    ax.axis(\"off\")\n",
    "    plt.show()"
   ]
  },
  {
   "cell_type": "markdown",
   "metadata": {},
   "source": [
    "`show_cat`関数が正しく動作するか確かめましょう。"
   ]
  },
  {
   "cell_type": "code",
   "execution_count": 3,
   "metadata": {},
   "outputs": [
    {
     "data": {
      "image/png": "[encoded data removed]",
      "text/plain": [
       "<Figure size 432x288 with 1 Axes>"
      ]
     },
     "metadata": {
      "needs_background": "light"
     },
     "output_type": "display_data"
    }
   ],
   "source": [
    "#生きた猫\n",
    "show_cat(['0'])"
   ]
  },
  {
   "cell_type": "code",
   "execution_count": 4,
   "metadata": {},
   "outputs": [
    {
     "data": {
      "image/png": "[encoded data removed]",
      "text/plain": [
       "<Figure size 432x288 with 1 Axes>"
      ]
     },
     "metadata": {
      "needs_background": "light"
     },
     "output_type": "display_data"
    }
   ],
   "source": [
    "#死んだ猫\n",
    "show_cat(['1'])"
   ]
  },
  {
   "cell_type": "markdown",
   "metadata": {},
   "source": [
    "## 演習 1: $|+\\rangle$状態を測定する量子回路を作成します\n",
    "1量子ビット、1古典ビットを持つ量子回路を作成、第0量子ビットにHゲートを作用させて、観測します。"
   ]
  },
  {
   "cell_type": "code",
   "execution_count": null,
   "metadata": {},
   "outputs": [],
   "source": [
    "#1量子ビット、１古典ビットの量子回路の作成\n",
    "qr = \n",
    "cr = \n",
    "circuit = \n",
    "\n",
    "# 第0量子ビットにHゲートを作用させる\n",
    "\n",
    "# 量子回路を測定する\n",
    "\n",
    "# 量子回路を描画する\n",
    "circuit.draw()"
   ]
  },
  {
   "cell_type": "markdown",
   "metadata": {},
   "source": [
    "## 演習 2: 作成した量子回路が正しく動作するか確認します\n",
    "QasmSimulatorを用いて確かめてみましょう。50%の確率で$|0\\rangle$が、50%の確率で$|1\\rangle$が観測されることを確認します。"
   ]
  },
  {
   "cell_type": "code",
   "execution_count": null,
   "metadata": {},
   "outputs": [],
   "source": [
    "# QasmSimulatorを取得します\n",
    "backend = \n",
    "# 回路をトランスパイルします\n",
    "compiled_circuit = \n",
    "# 回路を10000回シミュレーターで実行します\n",
    "result = \n",
    "# 実行結果をカウント数として取得します\n",
    "counts  = \n",
    "# 結果を描画します\n",
    "plot_histogram(counts)"
   ]
  },
  {
   "cell_type": "markdown",
   "metadata": {},
   "source": [
    "## 演習 3: シミュレーターを使って実行する\n",
    "シミュレーターの実行結果を用いて、猫の状態を決定しましょう。何度か実行して、生きている猫と死んでいる猫が表示されることを確認してください。"
   ]
  },
  {
   "cell_type": "code",
   "execution_count": null,
   "metadata": {},
   "outputs": [],
   "source": [
    "# 作成した回路を1回実行して、結果を取得します。memoryパラメーターをTrueに設定して下さい。\n",
    "result = \n",
    "# 実行結果を個々の測定結果として取得します\n",
    "memory = \n",
    "\n",
    "# 結果を描画します\n",
    "print(memory)\n",
    "show_cat(memory)"
   ]
  },
  {
   "cell_type": "markdown",
   "metadata": {},
   "source": [
    "## 演習 4: 実機を使って実行する\n",
    "シミュレーターで動きを確認できたので、実機で動かしてみましょう。まず、回路を実行する実機を探します。"
   ]
  },
  {
   "cell_type": "code",
   "execution_count": null,
   "metadata": {},
   "outputs": [],
   "source": [
    "# IBM Qアカウントをロードします\n",
    "provider = \n",
    "# 最も待ち行列が少ない実機を探します\n"
   ]
  },
  {
   "cell_type": "markdown",
   "metadata": {},
   "source": [
    "見つけた実機で量子回路を実行します。実行状況をモニターしてください。"
   ]
  },
  {
   "cell_type": "code",
   "execution_count": null,
   "metadata": {},
   "outputs": [],
   "source": [
    "# 直前のセルで取得した実機の名前を指定して、実行バックエンドを取得します\n",
    "backend = \n",
    "# 回路をトランスパイルします\n",
    "compiled_circuit = \n",
    "# 回路を1回実行して、結果を取得します。memoryパラメーターをTrueに設定して下さい。\n",
    "job = \n",
    "# 実行状況をモニターします\n"
   ]
  },
  {
   "cell_type": "markdown",
   "metadata": {},
   "source": [
    "`Job Status: job has successfully run` と表示されたら、結果を取得し、猫の状態を決定しましょう。"
   ]
  },
  {
   "cell_type": "code",
   "execution_count": null,
   "metadata": {},
   "outputs": [],
   "source": [
    "# 実行結果の取得\n",
    "result = \n",
    "# 実行結果を個々の観測結果として取得\n",
    "memory = \n",
    "\n",
    "# 結果を描画します\n",
    "print(memory)\n",
    "show_cat(memory)"
   ]
  },
  {
   "cell_type": "markdown",
   "metadata": {},
   "source": [
    "以上で、量子ビットを使用したSchrödingerの猫を実装の演習は終わりです。お疲れ様でした！"
   ]
  },
  {
   "cell_type": "markdown",
   "metadata": {},
   "source": [
    "## 応用\n",
    "時間内に終わった方は、次の量子状態を利用して、1/3の確率で生きた猫、1/3の確率で死んだ猫、1/3の確率で空の箱(そもそも猫はいなかった)を表示するプログラムを作成してみましょう。\n",
    "\n",
    "$$\n",
    "|\\psi\\rangle = \\frac{|01\\rangle + |10\\rangle + |11\\rangle}{\\sqrt{3}}\n",
    "$$\n",
    "\n",
    "この状態を実現する回路図は以下の通りです。なお、$R_y$ゲートの回転角$\\theta$は以下の通りです。\n",
    "$$\n",
    "\\theta = 2 * \\arccos{\\frac{1}{\\sqrt{3}}}\n",
    "$$"
   ]
  },
  {
   "cell_type": "code",
   "execution_count": 1,
   "metadata": {},
   "outputs": [
    {
     "data": {
      "image/png": "[encoded data removed]",
      "text/plain": [
       "<Figure size 387.452x204.68 with 1 Axes>"
      ]
     },
     "execution_count": 1,
     "metadata": {},
     "output_type": "execute_result"
    }
   ],
   "source": []
  },
  {
   "cell_type": "code",
   "execution_count": 2,
   "metadata": {},
   "outputs": [
    {
     "data": {
      "image/png": "[encoded data removed]",
      "text/plain": [
       "<Figure size 504x360 with 1 Axes>"
      ]
     },
     "execution_count": 2,
     "metadata": {},
     "output_type": "execute_result"
    }
   ],
   "source": []
  },
  {
   "cell_type": "code",
   "execution_count": null,
   "metadata": {},
   "outputs": [],
   "source": [
    "#空の箱の画像\n",
    "no_cat = np.array(\n",
    "    [[0,0,0,0,0,0,0,0,0,0,0,0,0,0,0,0,0,0,0,0],\n",
    "    [0,1,1,1,1,1,1,1,1,1,1,1,1,1,1,1,1,1,1,0],\n",
    "    [0,1,1,1,1,1,1,1,1,1,1,1,1,1,1,1,1,1,1,0],\n",
    "    [0,1,1,1,1,1,1,1,1,1,1,1,1,1,1,1,1,1,1,0],\n",
    "    [0,1,1,1,1,1,1,1,1,1,1,1,1,1,1,1,1,1,1,0],\n",
    "    [0,1,1,1,1,1,1,1,1,1,1,1,1,1,1,1,1,1,1,0],\n",
    "    [0,1,1,1,1,1,1,1,1,1,1,1,1,1,1,1,1,1,1,0],\n",
    "    [0,1,1,1,1,1,1,1,1,1,1,1,1,1,1,1,1,1,1,0],\n",
    "    [0,1,1,1,1,1,1,1,1,1,1,1,1,1,1,1,1,1,1,0],\n",
    "    [0,1,1,1,1,1,1,1,1,1,1,1,1,1,1,1,1,1,1,0],\n",
    "    [0,1,1,1,1,1,1,1,1,1,1,1,1,1,1,1,1,1,1,0],\n",
    "    [0,1,1,1,1,1,1,1,1,1,1,1,1,1,1,1,1,1,1,0],\n",
    "    [0,1,1,1,1,1,1,1,1,1,1,1,1,1,1,1,1,1,1,0],\n",
    "    [0,1,1,1,1,1,1,1,1,1,1,1,1,1,1,1,1,1,1,0],\n",
    "    [0,1,1,1,1,1,1,1,1,1,1,1,1,1,1,1,1,1,1,0],\n",
    "    [0,1,1,1,1,1,1,1,1,1,1,1,1,1,1,1,1,1,1,0],\n",
    "    [0,1,1,1,1,1,1,1,1,1,1,1,1,1,1,1,1,1,1,0],\n",
    "    [0,1,1,1,1,1,1,1,1,1,1,1,1,1,1,1,1,1,1,0],\n",
    "    [0,1,1,1,1,1,1,1,1,1,1,1,1,1,1,1,1,1,1,0],\n",
    "    [0,0,0,0,0,0,0,0,0,0,0,0,0,0,0,0,0,0,0,0]])\n",
    "\n",
    "# show_cat関数を拡張しましょう\n",
    "def extended_show_cat(memory):\n",
    "   "
   ]
  },
  {
   "cell_type": "code",
   "execution_count": null,
   "metadata": {},
   "outputs": [],
   "source": [
    "# 実装してみましょう！\n",
    "\n",
    "\n",
    "print(memory)\n",
    "extended_show_cat(memory)"
   ]
  },
  {
   "cell_type": "markdown",
   "metadata": {},
   "source": [
    "ワークショップ、セッション、および資料は、IBMまたはセッション発表者によって準備され、それぞれ独自の見解を反映したものです。それらは情報提供の目的のみで提供されており、いかなる参加者に対しても法律的またはその他の指導や助言を意図したものではなく、またそのような結果を生むものでもありません。本講演資料に含まれている情報については、完全性と正確性を期するよう努力しましたが、「現状のまま」提供され、明示または暗示にかかわらずいかなる保証も伴わないものとします。本講演資料またはその他の資料の使用によって、あるいはその他の関連によって、いかなる損害が生じた場合も、IBMは責任を負わないものとします。本講演資料に含まれている内容は、IBMまたはそのサプライヤーやライセンス交付者からいかなる保証または表明を引きだすことを意図したものでも、IBMソフトウェアの使用を規定する適用ライセンス契約の条項を変更することを意図したものでもなく、またそのような結果を生むものでもありません。\n",
    "\n",
    "本講演資料でIBM製品、プログラム、またはサービスに言及していても、IBMが営業活動を行っているすべての国でそれらが使用可能であることを暗示するものではありません。本講演資料で言及している製品リリース日付や製品機能は、市場機会またはその他の要因に基づいてIBM独自の決定権をもっていつでも変更できるものとし、いかなる方法においても将来の製品または機能が使用可能になると確約することを意図したものではありません。本講演資料に含まれている内容は、参加者が開始する活動によって特定の販売、売上高の向上、またはその他の結果が生じると述べる、または暗示することを意図したものでも、またそのような結果を生むものでもありません。パフォーマンスは、管理された環境において標準的なIBMベンチマークを使用した測定と予測に基づいています。ユーザーが経験する実際のスループットやパフォーマンスは、ユーザーのジョブ・ストリームにおけるマルチプログラミングの量、入出力構成、ストレージ構成、および処理されるワークロードなどの考慮事項を含む、数多くの要因に応じて変化します。したがって、個々のユーザーがここで述べられているものと同様の結果を得られると確約するものではありません。\n",
    "\n",
    "記述されているすべてのお客様事例は、それらのお客様がどのようにIBM製品を使用したか、またそれらのお客様が達成した結果の実例として示されたものです。実際の環境コストおよびパフォーマンス特性は、お客様ごとに異なる場合があります。\n",
    "\n",
    "IBM、IBM ロゴ、ibm.com、Qiskitは、世界の多くの国で登録されたInternational  Business  Machines  Corporationの商標です。他の製品名およびサービス名等は、それぞれIBMまたは各社の商標である場合があります。現時点でのIBM の商標リストについては、www.ibm.com/legal/copytrade.shtml をご覧ください。"
   ]
  },
  {
   "cell_type": "code",
   "execution_count": null,
   "metadata": {},
   "outputs": [],
   "source": []
  }
 ],
 "metadata": {
  "kernelspec": {
   "display_name": "Python 3",
   "language": "python",
   "name": "python3"
  },
  "language_info": {
   "codemirror_mode": {
    "name": "ipython",
    "version": 3
   },
   "file_extension": ".py",
   "mimetype": "text/x-python",
   "name": "python",
   "nbconvert_exporter": "python",
   "pygments_lexer": "ipython3",
   "version": "3.8.3"
  }
 },
 "nbformat": 4,
 "nbformat_minor": 4
}
