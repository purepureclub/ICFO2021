{
 "cells": [
  {
   "cell_type": "markdown",
   "metadata": {
    "slideshow": {
     "slide_type": "slide"
    }
   },
   "source": [
    "# リョウコと始める量子コンピューター・プログラミング\n",
    "\n",
    "みなさん、「リョウコと始める量子コンピューター・プログラミング」へようこそ。本ハンズオンは量子コンピューター・プログラミング未経験者向けです。量子コンピューターについてなんとなく知っているけれど、プログラミングをしたことのない方を対象としています。\n",
    "\n",
    "**前提知識**：Python、量子ビット・量子ゲートの基礎\n",
    "\n",
    "**事前準備**：[IBM Quantum](https://quantum-computing.ibm.com/)へのサインアップ"
   ]
  },
  {
   "cell_type": "markdown",
   "metadata": {
    "slideshow": {
     "slide_type": "skip"
    }
   },
   "source": [
    "### 目次\n",
    "1. [準備](#prep)\n",
    "1. [Qiskitについて](#qiskit) \n",
    "1. [量子回路を作る](#circuit)\n",
    "1. [量子ゲートを作用させる](#gate)\n",
    "1. [シミュレーターで実行する](#simulator)\n",
    "1. [量子ビットの順番について](#qubit_order)\n",
    "1. [実機で実行する](#real_machine)\n",
    "1. [実習！](#exercise)\n",
    "1. [まとめ](#summary)"
   ]
  },
  {
   "cell_type": "markdown",
   "metadata": {
    "slideshow": {
     "slide_type": "slide"
    }
   },
   "source": [
    "## 1. 準備 <a id='prep'></a>\n",
    "まずは、ハンズオンを実行する環境を準備しましょう。\n",
    "\n",
    "1. Jupyter notebookのダウンロード <br/>\n",
    "  ハンズオンで使用するJupyter notebookファイルを[こちら](https://ibm.box.com/s/7w1n4hcewedelr8ebftvuei2dm6lazap)からダウンロードします\n",
    "\n",
    "2. [IBM Quantum](https://quantum-computing.ibm.com/)へのログイン <br/>\n",
    "\n",
    "3. Jupyter notebookのアップロード <br/>\n",
    "ステップ1でダウンロードしたファイルをIBM Quantumにアップロードします\n",
    "\n",
    "  3-1. [Dashbord](https://quantum-computing.ibm.com/)上の[Launch Lab](https://quantum-computing.ibm.com/lab)ボタンをクリックします\n",
    "  \n",
    "  3-2. [Upload file]ボタン(上矢印)を押して、ステップ1でダウンロードしたファイルをアップロードします\n",
    "\n",
    "4. アップロードしたファイル「ICFO2021_qiskit_lecture.ipynb」を開いてください\n"
   ]
  },
  {
   "cell_type": "markdown",
   "metadata": {
    "slideshow": {
     "slide_type": "slide"
    }
   },
   "source": [
    "## 2. Qiskitについて <a id='qiskit'></a>\n",
    "さて、Qiskitは量子コンピューターを扱うためのオープンソースのフレームワークです。回路やパルス、アルゴリズムといった様々なレベルのライブラリが揃っています。Qiskitを使えば、量子回路を簡単に作成し、シミュレーターや実際の量子コンピュータを実行することができます。\n",
    "\n",
    "Qiskitは4つの基本ライブラリで構成されています。\n",
    "\n",
    "- Terra: 量子プログラムの基礎となる回路とパルス\n",
    "- Aer: シミュレーター\n",
    "- Ignis: ノイズとエラー\n",
    "- Aqua: アルゴリズムとアプリケーション\n",
    "\n",
    "本ハンズオンで取り扱うのはTerraとAerです。\n",
    "\n",
    "Qiskitは自分のコンピューターに[インストール](https://qiskit.org/documentation/install.html)することもできますが、本日はIBM Quantum上で実行していきましょう。"
   ]
  },
  {
   "cell_type": "markdown",
   "metadata": {
    "slideshow": {
     "slide_type": "slide"
    }
   },
   "source": [
    "## 3. 量子回路を作成する <a id='circuit'></a>\n",
    "では、量子回路を作成してみましょう。Qiskitで量子回路を表現するのは、`QuantumCircuit`クラスです。コンストラクタの種類はいくつかあります。最もポピュラーなのは、量子ビット数と古典ビット数を指定する方法です。作成した回路は、`draw`メソッドを使って簡単に描画することができます。\n",
    "\n",
    "下のセルに書かれたコードを実行しましょう。セルをクリックして「shift」+「enter」を押してください。これは、Jupyter notebookのコードセルを実行する最も一般的な方法です。 "
   ]
  },
  {
   "cell_type": "code",
   "execution_count": null,
   "metadata": {
    "slideshow": {
     "slide_type": "slide"
    }
   },
   "outputs": [],
   "source": [
    "from qiskit import QuantumCircuit\n",
    "# 3量子ビット、1古典ビットの回路を作成する\n",
    "qc = QuantumCircuit(3, 1)\n",
    "# 回路を描画する\n",
    "qc.draw()"
   ]
  },
  {
   "cell_type": "markdown",
   "metadata": {
    "slideshow": {
     "slide_type": "slide"
    }
   },
   "source": [
    "複雑な回路やアプリケーションを構築する場合は、`QuantumRegister`クラスで量子ビットのレジスターを、`ClassicalRegister`クラスで古典ビットのレジスターを作成し、`QuantumCircuit`オブジェクトを構築するのがおすすめです。レジスターに名前をつけると回路図に表示されます。"
   ]
  },
  {
   "cell_type": "code",
   "execution_count": null,
   "metadata": {
    "slideshow": {
     "slide_type": "slide"
    }
   },
   "outputs": [],
   "source": [
    "from qiskit import QuantumRegister, ClassicalRegister, QuantumCircuit\n",
    "# qrという名前の3量子ビットのレジスターを作成する\n",
    "qr = QuantumRegister(3, 'qr')\n",
    "# auxiliaryという名前の1量子ビットのレジスターを作成する\n",
    "aux = QuantumRegister(1, 'auxiliary')\n",
    "# crという名前の3古典ビットのレジスターを作成する\n",
    "cr = ClassicalRegister(3, 'cr')\n",
    "# レジスターを使って量子回路を作成する\n",
    "qc = QuantumCircuit(qr, aux, cr)\n",
    "# 回路を描画する\n",
    "qc.draw()"
   ]
  },
  {
   "cell_type": "markdown",
   "metadata": {
    "slideshow": {
     "slide_type": "slide"
    }
   },
   "source": [
    "## 4. 量子ゲートを作用させる<a id='gate'></a>\n",
    "量子ゲートは、量子回路の量子ビットに作用します。どの量子ビットに作用させるか、引数で指定します。"
   ]
  },
  {
   "cell_type": "markdown",
   "metadata": {
    "slideshow": {
     "slide_type": "slide"
    }
   },
   "source": [
    "### 1量子ビットに作用するゲート"
   ]
  },
  {
   "cell_type": "code",
   "execution_count": null,
   "metadata": {
    "slideshow": {
     "slide_type": "-"
    }
   },
   "outputs": [],
   "source": [
    "from qiskit import QuantumRegister, QuantumCircuit\n",
    "\n",
    "# 1量子ビットの回路を作成する\n",
    "qr = QuantumRegister(1, 'q')\n",
    "qc = QuantumCircuit(qr)\n",
    "\n",
    "# 第0量子ビットにXゲートを作用させる\n",
    "qc.x(qr[0])\n",
    "# 第0量子ビットにZゲートを作用させる\n",
    "qc.z(qr[0])\n",
    "# 第0量子ビットにHゲートを作用させる\n",
    "qc.h(qr[0])\n",
    "\n",
    "# 回路を描画する\n",
    "qc.draw()"
   ]
  },
  {
   "cell_type": "markdown",
   "metadata": {
    "slideshow": {
     "slide_type": "slide"
    }
   },
   "source": [
    "### 2量子ビットに作用するゲート"
   ]
  },
  {
   "cell_type": "code",
   "execution_count": null,
   "metadata": {
    "slideshow": {
     "slide_type": "-"
    }
   },
   "outputs": [],
   "source": [
    "from qiskit import QuantumRegister, QuantumCircuit\n",
    "\n",
    "# 2量子ビットの回路を作成する\n",
    "qr = QuantumRegister(2, 'q')\n",
    "qc = QuantumCircuit(qr)\n",
    "\n",
    "# 第0量子ビットを制御ビット、第1量子ビットをターゲットビットとして、CNOTゲートを作用させる\n",
    "qc.cx(qr[0], qr[1])\n",
    "# 第0量子ビットと第1量子ビットに、SWAPゲートを作用させる\n",
    "qc.swap(qr[0], qr[1])\n",
    "\n",
    "# 回路を描画する\n",
    "qc.draw()"
   ]
  },
  {
   "cell_type": "markdown",
   "metadata": {
    "slideshow": {
     "slide_type": "slide"
    }
   },
   "source": [
    "### 測定ゲート\n",
    "量子ビットの状態を測定するには、`measure`メソッドを使用します。以下は3量子ビットのGHZ状態(Greenberger–Horne–Zeilinger状態)をつくり、測定する量子回路です。\n",
    "$$\n",
    "|\\psi_{GHZ}\\rangle = \\frac{|000\\rangle + |111\\rangle}{\\sqrt{2}}\n",
    "$$"
   ]
  },
  {
   "cell_type": "code",
   "execution_count": null,
   "metadata": {
    "slideshow": {
     "slide_type": "slide"
    }
   },
   "outputs": [],
   "source": [
    "from qiskit import QuantumRegister, ClassicalRegister, QuantumCircuit\n",
    "\n",
    "# 3量子ビット、3古典ビットの回路を作成する\n",
    "qr = QuantumRegister(3, 'q')\n",
    "cr = ClassicalRegister(3, 'c')\n",
    "qc_ghz = QuantumCircuit(qr, cr)\n",
    "\n",
    "# 第0量子ビットにHゲートを作用させる\n",
    "qc_ghz.h(qr[0])\n",
    "# 第0量子ビットを制御ビット、第1量子ビットをターゲットビットとして、CNOTゲートを作用させる\n",
    "qc_ghz.cx(qr[0],qr[1])\n",
    "# 第1量子ビットを制御ビット、第2量子ビットをターゲットビットとして、CNOTゲートを作用させる\n",
    "qc_ghz.cx(qr[1],qr[2])\n",
    "#回路を測定する\n",
    "qc_ghz.measure(qr, cr)\n",
    "\n",
    "#回路を描画する\n",
    "qc_ghz.draw()"
   ]
  },
  {
   "cell_type": "markdown",
   "metadata": {
    "slideshow": {
     "slide_type": "slide"
    }
   },
   "source": [
    "## 6. シミュレーターで実行する <a id='simulator'></a>\n",
    "回路を作成したら、まずシミュレーターで実行し、期待される動作になっているか確認しましょう。Qiskitでシミュレーターを実装しているコンポーネントはAerです。Aerは現在、5種類のシミュレーターを提供していますが、本ハンズオンでは、QasmSimulatorを使用します。QasmSimulatorは量子回路の理想的な実行を複数回行い、個々の観測結果またはカウント数を返すものです。先ほど作成したGHZ状態の回路をQasmSimulatorシミュレーターで実行してみましょう。"
   ]
  },
  {
   "cell_type": "code",
   "execution_count": null,
   "metadata": {
    "slideshow": {
     "slide_type": "slide"
    }
   },
   "outputs": [],
   "source": [
    "from qiskit import transpile\n",
    "from qiskit.providers.aer import QasmSimulator\n",
    "from qiskit.visualization import plot_histogram\n",
    "\n",
    "# AerのQasmSimulatorを取得します\n",
    "backend = QasmSimulator()\n",
    "# 回路をトランスパイルします\n",
    "compiled_circuit = transpile(qc_ghz, backend)\n",
    "# トランスパイルされた量子回路、実行回数を指定して、実行します\n",
    "job = backend.run(compiled_circuit, shots=1024)\n",
    "# jobから結果を取得します。\n",
    "result = job.result()\n",
    "# 実行結果としてカウント数を取得します\n",
    "counts  = result.get_counts(qc_ghz)\n",
    "# 結果を描画します\n",
    "plot_histogram(counts)"
   ]
  },
  {
   "cell_type": "markdown",
   "metadata": {
    "slideshow": {
     "slide_type": "slide"
    }
   },
   "source": [
    "個々の実行結果を得たい場合は、memoryパラメーターをTrueにします。"
   ]
  },
  {
   "cell_type": "code",
   "execution_count": null,
   "metadata": {
    "slideshow": {
     "slide_type": "-"
    }
   },
   "outputs": [],
   "source": [
    "# 量子回路、バックエンド、実行回数を指定して、実行し、結果のオブジェクトを取得します\n",
    "result = backend.run(compiled_circuit, shots=16, memory=True).result()\n",
    "\n",
    "# 実行結果として個々の測定結果を取得します\n",
    "memory = result.get_memory(qc_ghz)\n",
    "print(memory)"
   ]
  },
  {
   "cell_type": "markdown",
   "metadata": {
    "slideshow": {
     "slide_type": "slide"
    }
   },
   "source": [
    "## 6. 量子ビットの順番について <a id='qubit_order'></a>\n",
    "\n",
    "複数量子ビットの回路を表現するとき、Qiskitで使用される量子ビットの順序は、一般的な教科書のものと違います。例えば、第0量子ビットが0、第1量子ビットが0、第2量子ビットが1の状態のとき、Qiskitはこの状態を $|100\\rangle$と表現します。対して、一般的な教科書は、 $|001\\rangle$と表現します。量子ゲートの行列表現も変わりますので注意が必要です。"
   ]
  },
  {
   "cell_type": "code",
   "execution_count": null,
   "metadata": {
    "slideshow": {
     "slide_type": "slide"
    }
   },
   "outputs": [],
   "source": [
    "from qiskit import transpile\n",
    "from qiskit.providers.aer import QasmSimulator\n",
    "from qiskit.visualization import plot_histogram\n",
    "\n",
    "# 3量子ビット、3古典ビットの回路を作成する\n",
    "qr = QuantumRegister(3, 'q')\n",
    "cr = ClassicalRegister(3, 'c')\n",
    "qc = QuantumCircuit(qr, cr)\n",
    "\n",
    "# 第0量子ビットにXゲートを作用させる\n",
    "qc.x(qr[0])\n",
    "qc.measure(qr, cr)\n",
    "\n",
    "# QasmSimulatorで実行する\n",
    "backend = QasmSimulator()\n",
    "compiled_circuit = transpile(qc, backend)\n",
    "result = backend.run(compiled_circuit, shots=1024).result()\n",
    "counts  = result.get_counts(qc)\n",
    "plot_histogram(counts)"
   ]
  },
  {
   "cell_type": "markdown",
   "metadata": {
    "slideshow": {
     "slide_type": "slide"
    }
   },
   "source": [
    "## 7. 実機で実行する <a id='real_machine'></a>\n",
    "では、実機で実行してみましょう。ご自身のアカウントにより、利用できるバックエンドが異なりますので、まずどのようなマシンが使えるか確認します。"
   ]
  },
  {
   "cell_type": "code",
   "execution_count": null,
   "metadata": {
    "slideshow": {
     "slide_type": "-"
    }
   },
   "outputs": [],
   "source": [
    "from qiskit.providers.ibmq import *\n",
    "# IBM Q アカウントをロードします\n",
    "provider = IBMQ.load_account()\n",
    "# 使用できるバックエンドを取得します\n",
    "provider.backends()"
   ]
  },
  {
   "cell_type": "markdown",
   "metadata": {
    "slideshow": {
     "slide_type": "slide"
    }
   },
   "source": [
    "たくさんあって選べませんね。`backends`メソッドは、フィルターを引数にとることができます。また、最も待ち行列が少ないバックエンドを取得する`least_busy`メソッドも便利です。"
   ]
  },
  {
   "cell_type": "code",
   "execution_count": null,
   "metadata": {
    "slideshow": {
     "slide_type": "-"
    }
   },
   "outputs": [],
   "source": [
    "# 3量子ビット以上で最も待ち行列が少ない実機を取得する\n",
    "least_busy(provider.backends(filters=lambda x: x.configuration().n_qubits >= 3 \n",
    "                             and not x.configuration().simulator))"
   ]
  },
  {
   "cell_type": "markdown",
   "metadata": {
    "slideshow": {
     "slide_type": "slide"
    }
   },
   "source": [
    "実機のバックエンドを使用して量子回路を実行する手順は、シミュレーターの時と一緒です。バックエンドを取得したら、トランスパイルします。今回はトランスパイルされた回路を表示してみましょう。"
   ]
  },
  {
   "cell_type": "code",
   "execution_count": null,
   "metadata": {
    "slideshow": {
     "slide_type": "-"
    }
   },
   "outputs": [],
   "source": [
    "# 直前のセルで取得した実機の名前を指定して、実行バックエンドを取得します\n",
    "backend = provider.get_backend('ibmqx2')\n",
    "# バックエンドの基底ゲートを表示します\n",
    "print (backend.configuration().basis_gates)\n",
    "# トランスパイルします\n",
    "compiled_circuit = transpile(qc_ghz, backend)\n",
    "# トランスパイルした回路を描画します\n",
    "compiled_circuit.draw()"
   ]
  },
  {
   "cell_type": "markdown",
   "metadata": {
    "slideshow": {
     "slide_type": "slide"
    }
   },
   "source": [
    "実機で実行する場合は、待ち行列に入ったり実行に時間がかかったりして、いつ終わるかわからないので、`job_monitor`メソッドを使用して、状況をモニターするのがお勧めです。実機を使うのは、演習のときのお楽しみとして、今は`ibmq_qasm_simulator`を使います。"
   ]
  },
  {
   "cell_type": "code",
   "execution_count": null,
   "metadata": {
    "slideshow": {
     "slide_type": "-"
    }
   },
   "outputs": [],
   "source": [
    "from qiskit.tools.monitor import job_monitor \n",
    "\n",
    "# ibmq_qasm_simulatorバックエンドを取得します\n",
    "backend = provider.get_backend('ibmq_qasm_simulator')\n",
    "# トランスパイルします\n",
    "compiled_circuit = transpile(qc_ghz, backend)\n",
    "# 量子回路、バックエンド、実行回数を指定して、実行し、結果のオブジェクトを取得します\n",
    "job = backend.run(compiled_circuit, shots=1024)\n",
    "# 実行状況をモニターします\n",
    "job_monitor(job)"
   ]
  },
  {
   "cell_type": "markdown",
   "metadata": {
    "slideshow": {
     "slide_type": "slide"
    }
   },
   "source": [
    "`Job Status: job has successfully run` と表示されたら、実行完了です。結果を取得して、表示してみましょう。"
   ]
  },
  {
   "cell_type": "code",
   "execution_count": null,
   "metadata": {
    "slideshow": {
     "slide_type": "-"
    }
   },
   "outputs": [],
   "source": [
    "result = job.result()\n",
    "# 実行結果としてカウント数を取得します\n",
    "counts  = result.get_counts(qc_ghz)\n",
    "plot_histogram(counts)"
   ]
  },
  {
   "cell_type": "markdown",
   "metadata": {
    "slideshow": {
     "slide_type": "slide"
    }
   },
   "source": [
    "## 8. 実習！<a id='exercise'></a>\n",
    "以上の知識を用いて、Schrödingerの猫を実装してみましょう。[こちら](https://ibm.box.com/s/vcfw6n6lccuhfjempg2uvp8t0j5uo8xy)から、実習用Jupyter notebookファイルをダウンロードし、IBM Quantumにアップロードして、始めてください。質問は、Live Streamのチャットに記述してください。"
   ]
  },
  {
   "cell_type": "markdown",
   "metadata": {
    "slideshow": {
     "slide_type": "slide"
    }
   },
   "source": [
    "## 9. まとめ <a id='summary'></a>\n",
    "いかがでしたか？本日はQiskitを使用して以下を行いました：\n",
    "- 簡単な量子回路を作成する\n",
    "- シミュレーターと実機で量子回路を実行する\n",
    "- Schrödingerの猫を実装する\n",
    "\n",
    "Qiskitをもっと知りたい方には、Qiskit Documentationの[Tutorial](https://qiskit.org/documentation/tutorials.html)を、量子コンピューターについてもっと勉強したい方には、[Qiskit Textbook](https://qiskit.org/textbook/preface.html)をお勧めします。TutorialはIBM Quantumの[Quantum Lab](https://quantum-computing.ibm.com/lab)からも参照＆実行できるので便利です。\n",
    "\n",
    "<div style=\"text-align: right;\">\n",
    "(了)\n",
    "</div>"
   ]
  },
  {
   "cell_type": "markdown",
   "metadata": {
    "slideshow": {
     "slide_type": "slide"
    }
   },
   "source": [
    "ワークショップ、セッション、および資料は、IBMまたはセッション発表者によって準備され、それぞれ独自の見解を反映したものです。それらは情報提供の目的のみで提供されており、いかなる参加者に対しても法律的またはその他の指導や助言を意図したものではなく、またそのような結果を生むものでもありません。本講演資料に含まれている情報については、完全性と正確性を期するよう努力しましたが、「現状のまま」提供され、明示または暗示にかかわらずいかなる保証も伴わないものとします。本講演資料またはその他の資料の使用によって、あるいはその他の関連によって、いかなる損害が生じた場合も、IBMは責任を負わないものとします。本講演資料に含まれている内容は、IBMまたはそのサプライヤーやライセンス交付者からいかなる保証または表明を引きだすことを意図したものでも、IBMソフトウェアの使用を規定する適用ライセンス契約の条項を変更することを意図したものでもなく、またそのような結果を生むものでもありません。\n",
    "\n",
    "本講演資料でIBM製品、プログラム、またはサービスに言及していても、IBMが営業活動を行っているすべての国でそれらが使用可能であることを暗示するものではありません。本講演資料で言及している製品リリース日付や製品機能は、市場機会またはその他の要因に基づいてIBM独自の決定権をもっていつでも変更できるものとし、いかなる方法においても将来の製品または機能が使用可能になると確約することを意図したものではありません。本講演資料に含まれている内容は、参加者が開始する活動によって特定の販売、売上高の向上、またはその他の結果が生じると述べる、または暗示することを意図したものでも、またそのような結果を生むものでもありません。パフォーマンスは、管理された環境において標準的なIBMベンチマークを使用した測定と予測に基づいています。ユーザーが経験する実際のスループットやパフォーマンスは、ユーザーのジョブ・ストリームにおけるマルチプログラミングの量、入出力構成、ストレージ構成、および処理されるワークロードなどの考慮事項を含む、数多くの要因に応じて変化します。したがって、個々のユーザーがここで述べられているものと同様の結果を得られると確約するものではありません。\n",
    "\n",
    "記述されているすべてのお客様事例は、それらのお客様がどのようにIBM製品を使用したか、またそれらのお客様が達成した結果の実例として示されたものです。実際の環境コストおよびパフォーマンス特性は、お客様ごとに異なる場合があります。\n",
    "\n",
    "IBM、IBM ロゴ、ibm.com、Qiskitは、世界の多くの国で登録されたInternational  Business  Machines  Corporationの商標です。他の製品名およびサービス名等は、それぞれIBMまたは各社の商標である場合があります。現時点でのIBM の商標リストについては、www.ibm.com/legal/copytrade.shtml をご覧ください。\n",
    "\n",
    "JupyterはNumFOCUS foundationの登録商標です。<br/>\n",
    "PythonはPython Software Foundationの登録商標です。"
   ]
  },
  {
   "cell_type": "code",
   "execution_count": null,
   "metadata": {},
   "outputs": [],
   "source": []
  }
 ],
 "metadata": {
  "celltoolbar": "Slideshow",
  "kernelspec": {
   "display_name": "Python 3",
   "language": "python",
   "name": "python3"
  },
  "language_info": {
   "codemirror_mode": {
    "name": "ipython",
    "version": 3
   },
   "file_extension": ".py",
   "mimetype": "text/x-python",
   "name": "python",
   "nbconvert_exporter": "python",
   "pygments_lexer": "ipython3",
   "version": "3.8.3"
  }
 },
 "nbformat": 4,
 "nbformat_minor": 4
}
